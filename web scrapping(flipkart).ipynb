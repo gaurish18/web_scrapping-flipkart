{
 "cells": [
  {
   "cell_type": "code",
   "execution_count": 2,
   "id": "16dfc315-0d79-4452-b057-5315fc4abebf",
   "metadata": {},
   "outputs": [],
   "source": [
    "import requests\n",
    "from bs4 import BeautifulSoup as bs\n",
    "from urllib.request import urlopen\n",
    "import logging"
   ]
  },
  {
   "cell_type": "code",
   "execution_count": 10,
   "id": "63e32a08-4089-4a86-8b22-424111abfd40",
   "metadata": {},
   "outputs": [],
   "source": [
    "flipcart_url= 'https://www.flipkart.com/search?q=' + 'tv'"
   ]
  },
  {
   "cell_type": "code",
   "execution_count": 11,
   "id": "1f968a3d-b4a4-46a8-a84c-b98874ac068a",
   "metadata": {},
   "outputs": [
    {
     "data": {
      "text/plain": [
       "'https://www.flipkart.com/search?q=tv'"
      ]
     },
     "execution_count": 11,
     "metadata": {},
     "output_type": "execute_result"
    }
   ],
   "source": [
    "flipcart_url"
   ]
  },
  {
   "cell_type": "code",
   "execution_count": 21,
   "id": "d3b64ea3-3a75-4765-af8f-44bd9e33410b",
   "metadata": {},
   "outputs": [],
   "source": [
    "urclient = urlopen(flipcart_url)"
   ]
  },
  {
   "cell_type": "code",
   "execution_count": 22,
   "id": "de4560b4-13b9-4bf5-8b79-031ad6747c61",
   "metadata": {},
   "outputs": [],
   "source": [
    "flipcart_page = urclient.read()"
   ]
  },
  {
   "cell_type": "code",
   "execution_count": 25,
   "id": "66d8fa23-6fb1-4342-99cf-2c7d29cb68ad",
   "metadata": {},
   "outputs": [],
   "source": [
    "flipcart_html = bs(flipcart_page , 'html.parser')"
   ]
  },
  {
   "cell_type": "code",
   "execution_count": 28,
   "id": "76c21ebd-bc36-45a8-975c-311f7f183744",
   "metadata": {},
   "outputs": [
    {
     "data": {
      "text/plain": [
       "'https://www.flipkart.com/mi-series-108-cm-43-inch-full-hd-led-smart-google-tv-bezel-less-design-dolby-audio-2023-model/p/itm5d3f8da36722a?pid=TVSGREPA7DYQRRJ7&amp;lid=LSTTVSGREPA7DYQRRJ7VBIQMN&amp;marketplace=FLIPKART&amp;q=tv&amp;store=ckf%2Fczl&amp;srno=s_1_1&amp;otracker=search&amp;fm=organic&amp;iid=en_kegeC2vqJN6EWU74fAaMCk48bA58qBxHIU2kznKutCXUbnhXC1iYY-kJZJSdxKssIiadL54d3qTTpFjT49Q1wA%3D%3D&amp;ppt=None&amp;ppn=None&amp;ssid=8h58o9qfi80000001691416811620&amp;qH=c9a1fdac6e082dd8'"
      ]
     },
     "execution_count": 28,
     "metadata": {},
     "output_type": "execute_result"
    }
   ],
   "source": [
    "\"https://www.flipkart.com\"+\"/mi-series-108-cm-43-inch-full-hd-led-smart-google-tv-bezel-less-design-dolby-audio-2023-model/p/itm5d3f8da36722a?pid=TVSGREPA7DYQRRJ7&amp;lid=LSTTVSGREPA7DYQRRJ7VBIQMN&amp;marketplace=FLIPKART&amp;q=tv&amp;store=ckf%2Fczl&amp;srno=s_1_1&amp;otracker=search&amp;fm=organic&amp;iid=en_kegeC2vqJN6EWU74fAaMCk48bA58qBxHIU2kznKutCXUbnhXC1iYY-kJZJSdxKssIiadL54d3qTTpFjT49Q1wA%3D%3D&amp;ppt=None&amp;ppn=None&amp;ssid=8h58o9qfi80000001691416811620&amp;qH=c9a1fdac6e082dd8\""
   ]
  },
  {
   "cell_type": "code",
   "execution_count": 30,
   "id": "d47a9f88-f07e-4f18-b475-90393a567860",
   "metadata": {},
   "outputs": [],
   "source": [
    "bigbox = flipcart_html.find_all('div' , {\"class\": \"_1AtVbE col-12-12\"})"
   ]
  },
  {
   "cell_type": "code",
   "execution_count": 31,
   "id": "779f4bd4-569e-4667-a08d-82538f2be332",
   "metadata": {},
   "outputs": [
    {
     "data": {
      "text/plain": [
       "30"
      ]
     },
     "execution_count": 31,
     "metadata": {},
     "output_type": "execute_result"
    }
   ],
   "source": [
    "len(bigbox)"
   ]
  },
  {
   "cell_type": "code",
   "execution_count": 32,
   "id": "e25f3101-40d6-42df-9bea-684d52015a80",
   "metadata": {},
   "outputs": [],
   "source": [
    "del bigbox[0:3] "
   ]
  },
  {
   "cell_type": "code",
   "execution_count": 39,
   "id": "e0f93731-18b7-468d-8a58-908f77c22055",
   "metadata": {},
   "outputs": [],
   "source": [
    "product_link = \"https://www.flipkart.com\"+bigbox[0].div.div.div.a['href']"
   ]
  },
  {
   "cell_type": "code",
   "execution_count": 38,
   "id": "8432cdd7-aab7-4bc1-a029-10d423671a1e",
   "metadata": {},
   "outputs": [
    {
     "name": "stdout",
     "output_type": "stream",
     "text": [
      "https://www.flipkart.com/compaq-108-cm-43-inch-full-hd-led-smart-android-tv-hdr10-chromecast-ready-dolby-audio-surround-sound/p/itm49e8d5f020b11?pid=TVSGHQYFPMG8TYNM&lid=LSTTVSGHQYFPMG8TYNMDK9XCC&marketplace=FLIPKART&q=tv&store=ckf%2Fczl&srno=s_1_2&otracker=search&fm=organic&iid=en__CNWI9-i8wnLUo1at75CVPiBi_IPvjv-cqspz8IBMC2IexMgmKdYs8NzdQNyVtEZOaeOBQeoYuDonroDfLafDg%3D%3D&ppt=None&ppn=None&ssid=1jelr7l5ts0000001691417237203&qH=c9a1fdac6e082dd8\n",
      "https://www.flipkart.com/compaq-108-cm-43-inch-full-hd-led-smart-android-tv-hdr10-chromecast-ready-dolby-audio-surround-sound/p/itm49e8d5f020b11?pid=TVSGHQYFPMG8TYNM&lid=LSTTVSGHQYFPMG8TYNMDK9XCC&marketplace=FLIPKART&q=tv&store=ckf%2Fczl&srno=s_1_2&otracker=search&fm=organic&iid=en__CNWI9-i8wnLUo1at75CVPiBi_IPvjv-cqspz8IBMC2IexMgmKdYs8NzdQNyVtEZOaeOBQeoYuDonroDfLafDg%3D%3D&ppt=None&ppn=None&ssid=1jelr7l5ts0000001691417237203&qH=c9a1fdac6e082dd8\n",
      "https://www.flipkart.com/compaq-108-cm-43-inch-full-hd-led-smart-android-tv-hdr10-chromecast-ready-dolby-audio-surround-sound/p/itm49e8d5f020b11?pid=TVSGHQYFPMG8TYNM&lid=LSTTVSGHQYFPMG8TYNMDK9XCC&marketplace=FLIPKART&q=tv&store=ckf%2Fczl&srno=s_1_2&otracker=search&fm=organic&iid=en__CNWI9-i8wnLUo1at75CVPiBi_IPvjv-cqspz8IBMC2IexMgmKdYs8NzdQNyVtEZOaeOBQeoYuDonroDfLafDg%3D%3D&ppt=None&ppn=None&ssid=1jelr7l5ts0000001691417237203&qH=c9a1fdac6e082dd8\n",
      "https://www.flipkart.com/compaq-108-cm-43-inch-full-hd-led-smart-android-tv-hdr10-chromecast-ready-dolby-audio-surround-sound/p/itm49e8d5f020b11?pid=TVSGHQYFPMG8TYNM&lid=LSTTVSGHQYFPMG8TYNMDK9XCC&marketplace=FLIPKART&q=tv&store=ckf%2Fczl&srno=s_1_2&otracker=search&fm=organic&iid=en__CNWI9-i8wnLUo1at75CVPiBi_IPvjv-cqspz8IBMC2IexMgmKdYs8NzdQNyVtEZOaeOBQeoYuDonroDfLafDg%3D%3D&ppt=None&ppn=None&ssid=1jelr7l5ts0000001691417237203&qH=c9a1fdac6e082dd8\n",
      "https://www.flipkart.com/compaq-108-cm-43-inch-full-hd-led-smart-android-tv-hdr10-chromecast-ready-dolby-audio-surround-sound/p/itm49e8d5f020b11?pid=TVSGHQYFPMG8TYNM&lid=LSTTVSGHQYFPMG8TYNMDK9XCC&marketplace=FLIPKART&q=tv&store=ckf%2Fczl&srno=s_1_2&otracker=search&fm=organic&iid=en__CNWI9-i8wnLUo1at75CVPiBi_IPvjv-cqspz8IBMC2IexMgmKdYs8NzdQNyVtEZOaeOBQeoYuDonroDfLafDg%3D%3D&ppt=None&ppn=None&ssid=1jelr7l5ts0000001691417237203&qH=c9a1fdac6e082dd8\n",
      "https://www.flipkart.com/compaq-108-cm-43-inch-full-hd-led-smart-android-tv-hdr10-chromecast-ready-dolby-audio-surround-sound/p/itm49e8d5f020b11?pid=TVSGHQYFPMG8TYNM&lid=LSTTVSGHQYFPMG8TYNMDK9XCC&marketplace=FLIPKART&q=tv&store=ckf%2Fczl&srno=s_1_2&otracker=search&fm=organic&iid=en__CNWI9-i8wnLUo1at75CVPiBi_IPvjv-cqspz8IBMC2IexMgmKdYs8NzdQNyVtEZOaeOBQeoYuDonroDfLafDg%3D%3D&ppt=None&ppn=None&ssid=1jelr7l5ts0000001691417237203&qH=c9a1fdac6e082dd8\n",
      "https://www.flipkart.com/compaq-108-cm-43-inch-full-hd-led-smart-android-tv-hdr10-chromecast-ready-dolby-audio-surround-sound/p/itm49e8d5f020b11?pid=TVSGHQYFPMG8TYNM&lid=LSTTVSGHQYFPMG8TYNMDK9XCC&marketplace=FLIPKART&q=tv&store=ckf%2Fczl&srno=s_1_2&otracker=search&fm=organic&iid=en__CNWI9-i8wnLUo1at75CVPiBi_IPvjv-cqspz8IBMC2IexMgmKdYs8NzdQNyVtEZOaeOBQeoYuDonroDfLafDg%3D%3D&ppt=None&ppn=None&ssid=1jelr7l5ts0000001691417237203&qH=c9a1fdac6e082dd8\n",
      "https://www.flipkart.com/compaq-108-cm-43-inch-full-hd-led-smart-android-tv-hdr10-chromecast-ready-dolby-audio-surround-sound/p/itm49e8d5f020b11?pid=TVSGHQYFPMG8TYNM&lid=LSTTVSGHQYFPMG8TYNMDK9XCC&marketplace=FLIPKART&q=tv&store=ckf%2Fczl&srno=s_1_2&otracker=search&fm=organic&iid=en__CNWI9-i8wnLUo1at75CVPiBi_IPvjv-cqspz8IBMC2IexMgmKdYs8NzdQNyVtEZOaeOBQeoYuDonroDfLafDg%3D%3D&ppt=None&ppn=None&ssid=1jelr7l5ts0000001691417237203&qH=c9a1fdac6e082dd8\n",
      "https://www.flipkart.com/compaq-108-cm-43-inch-full-hd-led-smart-android-tv-hdr10-chromecast-ready-dolby-audio-surround-sound/p/itm49e8d5f020b11?pid=TVSGHQYFPMG8TYNM&lid=LSTTVSGHQYFPMG8TYNMDK9XCC&marketplace=FLIPKART&q=tv&store=ckf%2Fczl&srno=s_1_2&otracker=search&fm=organic&iid=en__CNWI9-i8wnLUo1at75CVPiBi_IPvjv-cqspz8IBMC2IexMgmKdYs8NzdQNyVtEZOaeOBQeoYuDonroDfLafDg%3D%3D&ppt=None&ppn=None&ssid=1jelr7l5ts0000001691417237203&qH=c9a1fdac6e082dd8\n",
      "https://www.flipkart.com/compaq-108-cm-43-inch-full-hd-led-smart-android-tv-hdr10-chromecast-ready-dolby-audio-surround-sound/p/itm49e8d5f020b11?pid=TVSGHQYFPMG8TYNM&lid=LSTTVSGHQYFPMG8TYNMDK9XCC&marketplace=FLIPKART&q=tv&store=ckf%2Fczl&srno=s_1_2&otracker=search&fm=organic&iid=en__CNWI9-i8wnLUo1at75CVPiBi_IPvjv-cqspz8IBMC2IexMgmKdYs8NzdQNyVtEZOaeOBQeoYuDonroDfLafDg%3D%3D&ppt=None&ppn=None&ssid=1jelr7l5ts0000001691417237203&qH=c9a1fdac6e082dd8\n",
      "https://www.flipkart.com/compaq-108-cm-43-inch-full-hd-led-smart-android-tv-hdr10-chromecast-ready-dolby-audio-surround-sound/p/itm49e8d5f020b11?pid=TVSGHQYFPMG8TYNM&lid=LSTTVSGHQYFPMG8TYNMDK9XCC&marketplace=FLIPKART&q=tv&store=ckf%2Fczl&srno=s_1_2&otracker=search&fm=organic&iid=en__CNWI9-i8wnLUo1at75CVPiBi_IPvjv-cqspz8IBMC2IexMgmKdYs8NzdQNyVtEZOaeOBQeoYuDonroDfLafDg%3D%3D&ppt=None&ppn=None&ssid=1jelr7l5ts0000001691417237203&qH=c9a1fdac6e082dd8\n",
      "https://www.flipkart.com/compaq-108-cm-43-inch-full-hd-led-smart-android-tv-hdr10-chromecast-ready-dolby-audio-surround-sound/p/itm49e8d5f020b11?pid=TVSGHQYFPMG8TYNM&lid=LSTTVSGHQYFPMG8TYNMDK9XCC&marketplace=FLIPKART&q=tv&store=ckf%2Fczl&srno=s_1_2&otracker=search&fm=organic&iid=en__CNWI9-i8wnLUo1at75CVPiBi_IPvjv-cqspz8IBMC2IexMgmKdYs8NzdQNyVtEZOaeOBQeoYuDonroDfLafDg%3D%3D&ppt=None&ppn=None&ssid=1jelr7l5ts0000001691417237203&qH=c9a1fdac6e082dd8\n",
      "https://www.flipkart.com/compaq-108-cm-43-inch-full-hd-led-smart-android-tv-hdr10-chromecast-ready-dolby-audio-surround-sound/p/itm49e8d5f020b11?pid=TVSGHQYFPMG8TYNM&lid=LSTTVSGHQYFPMG8TYNMDK9XCC&marketplace=FLIPKART&q=tv&store=ckf%2Fczl&srno=s_1_2&otracker=search&fm=organic&iid=en__CNWI9-i8wnLUo1at75CVPiBi_IPvjv-cqspz8IBMC2IexMgmKdYs8NzdQNyVtEZOaeOBQeoYuDonroDfLafDg%3D%3D&ppt=None&ppn=None&ssid=1jelr7l5ts0000001691417237203&qH=c9a1fdac6e082dd8\n",
      "https://www.flipkart.com/compaq-108-cm-43-inch-full-hd-led-smart-android-tv-hdr10-chromecast-ready-dolby-audio-surround-sound/p/itm49e8d5f020b11?pid=TVSGHQYFPMG8TYNM&lid=LSTTVSGHQYFPMG8TYNMDK9XCC&marketplace=FLIPKART&q=tv&store=ckf%2Fczl&srno=s_1_2&otracker=search&fm=organic&iid=en__CNWI9-i8wnLUo1at75CVPiBi_IPvjv-cqspz8IBMC2IexMgmKdYs8NzdQNyVtEZOaeOBQeoYuDonroDfLafDg%3D%3D&ppt=None&ppn=None&ssid=1jelr7l5ts0000001691417237203&qH=c9a1fdac6e082dd8\n",
      "https://www.flipkart.com/compaq-108-cm-43-inch-full-hd-led-smart-android-tv-hdr10-chromecast-ready-dolby-audio-surround-sound/p/itm49e8d5f020b11?pid=TVSGHQYFPMG8TYNM&lid=LSTTVSGHQYFPMG8TYNMDK9XCC&marketplace=FLIPKART&q=tv&store=ckf%2Fczl&srno=s_1_2&otracker=search&fm=organic&iid=en__CNWI9-i8wnLUo1at75CVPiBi_IPvjv-cqspz8IBMC2IexMgmKdYs8NzdQNyVtEZOaeOBQeoYuDonroDfLafDg%3D%3D&ppt=None&ppn=None&ssid=1jelr7l5ts0000001691417237203&qH=c9a1fdac6e082dd8\n",
      "https://www.flipkart.com/compaq-108-cm-43-inch-full-hd-led-smart-android-tv-hdr10-chromecast-ready-dolby-audio-surround-sound/p/itm49e8d5f020b11?pid=TVSGHQYFPMG8TYNM&lid=LSTTVSGHQYFPMG8TYNMDK9XCC&marketplace=FLIPKART&q=tv&store=ckf%2Fczl&srno=s_1_2&otracker=search&fm=organic&iid=en__CNWI9-i8wnLUo1at75CVPiBi_IPvjv-cqspz8IBMC2IexMgmKdYs8NzdQNyVtEZOaeOBQeoYuDonroDfLafDg%3D%3D&ppt=None&ppn=None&ssid=1jelr7l5ts0000001691417237203&qH=c9a1fdac6e082dd8\n",
      "https://www.flipkart.com/compaq-108-cm-43-inch-full-hd-led-smart-android-tv-hdr10-chromecast-ready-dolby-audio-surround-sound/p/itm49e8d5f020b11?pid=TVSGHQYFPMG8TYNM&lid=LSTTVSGHQYFPMG8TYNMDK9XCC&marketplace=FLIPKART&q=tv&store=ckf%2Fczl&srno=s_1_2&otracker=search&fm=organic&iid=en__CNWI9-i8wnLUo1at75CVPiBi_IPvjv-cqspz8IBMC2IexMgmKdYs8NzdQNyVtEZOaeOBQeoYuDonroDfLafDg%3D%3D&ppt=None&ppn=None&ssid=1jelr7l5ts0000001691417237203&qH=c9a1fdac6e082dd8\n",
      "https://www.flipkart.com/compaq-108-cm-43-inch-full-hd-led-smart-android-tv-hdr10-chromecast-ready-dolby-audio-surround-sound/p/itm49e8d5f020b11?pid=TVSGHQYFPMG8TYNM&lid=LSTTVSGHQYFPMG8TYNMDK9XCC&marketplace=FLIPKART&q=tv&store=ckf%2Fczl&srno=s_1_2&otracker=search&fm=organic&iid=en__CNWI9-i8wnLUo1at75CVPiBi_IPvjv-cqspz8IBMC2IexMgmKdYs8NzdQNyVtEZOaeOBQeoYuDonroDfLafDg%3D%3D&ppt=None&ppn=None&ssid=1jelr7l5ts0000001691417237203&qH=c9a1fdac6e082dd8\n",
      "https://www.flipkart.com/compaq-108-cm-43-inch-full-hd-led-smart-android-tv-hdr10-chromecast-ready-dolby-audio-surround-sound/p/itm49e8d5f020b11?pid=TVSGHQYFPMG8TYNM&lid=LSTTVSGHQYFPMG8TYNMDK9XCC&marketplace=FLIPKART&q=tv&store=ckf%2Fczl&srno=s_1_2&otracker=search&fm=organic&iid=en__CNWI9-i8wnLUo1at75CVPiBi_IPvjv-cqspz8IBMC2IexMgmKdYs8NzdQNyVtEZOaeOBQeoYuDonroDfLafDg%3D%3D&ppt=None&ppn=None&ssid=1jelr7l5ts0000001691417237203&qH=c9a1fdac6e082dd8\n",
      "https://www.flipkart.com/compaq-108-cm-43-inch-full-hd-led-smart-android-tv-hdr10-chromecast-ready-dolby-audio-surround-sound/p/itm49e8d5f020b11?pid=TVSGHQYFPMG8TYNM&lid=LSTTVSGHQYFPMG8TYNMDK9XCC&marketplace=FLIPKART&q=tv&store=ckf%2Fczl&srno=s_1_2&otracker=search&fm=organic&iid=en__CNWI9-i8wnLUo1at75CVPiBi_IPvjv-cqspz8IBMC2IexMgmKdYs8NzdQNyVtEZOaeOBQeoYuDonroDfLafDg%3D%3D&ppt=None&ppn=None&ssid=1jelr7l5ts0000001691417237203&qH=c9a1fdac6e082dd8\n",
      "https://www.flipkart.com/compaq-108-cm-43-inch-full-hd-led-smart-android-tv-hdr10-chromecast-ready-dolby-audio-surround-sound/p/itm49e8d5f020b11?pid=TVSGHQYFPMG8TYNM&lid=LSTTVSGHQYFPMG8TYNMDK9XCC&marketplace=FLIPKART&q=tv&store=ckf%2Fczl&srno=s_1_2&otracker=search&fm=organic&iid=en__CNWI9-i8wnLUo1at75CVPiBi_IPvjv-cqspz8IBMC2IexMgmKdYs8NzdQNyVtEZOaeOBQeoYuDonroDfLafDg%3D%3D&ppt=None&ppn=None&ssid=1jelr7l5ts0000001691417237203&qH=c9a1fdac6e082dd8\n",
      "https://www.flipkart.com/compaq-108-cm-43-inch-full-hd-led-smart-android-tv-hdr10-chromecast-ready-dolby-audio-surround-sound/p/itm49e8d5f020b11?pid=TVSGHQYFPMG8TYNM&lid=LSTTVSGHQYFPMG8TYNMDK9XCC&marketplace=FLIPKART&q=tv&store=ckf%2Fczl&srno=s_1_2&otracker=search&fm=organic&iid=en__CNWI9-i8wnLUo1at75CVPiBi_IPvjv-cqspz8IBMC2IexMgmKdYs8NzdQNyVtEZOaeOBQeoYuDonroDfLafDg%3D%3D&ppt=None&ppn=None&ssid=1jelr7l5ts0000001691417237203&qH=c9a1fdac6e082dd8\n",
      "https://www.flipkart.com/compaq-108-cm-43-inch-full-hd-led-smart-android-tv-hdr10-chromecast-ready-dolby-audio-surround-sound/p/itm49e8d5f020b11?pid=TVSGHQYFPMG8TYNM&lid=LSTTVSGHQYFPMG8TYNMDK9XCC&marketplace=FLIPKART&q=tv&store=ckf%2Fczl&srno=s_1_2&otracker=search&fm=organic&iid=en__CNWI9-i8wnLUo1at75CVPiBi_IPvjv-cqspz8IBMC2IexMgmKdYs8NzdQNyVtEZOaeOBQeoYuDonroDfLafDg%3D%3D&ppt=None&ppn=None&ssid=1jelr7l5ts0000001691417237203&qH=c9a1fdac6e082dd8\n",
      "https://www.flipkart.com/compaq-108-cm-43-inch-full-hd-led-smart-android-tv-hdr10-chromecast-ready-dolby-audio-surround-sound/p/itm49e8d5f020b11?pid=TVSGHQYFPMG8TYNM&lid=LSTTVSGHQYFPMG8TYNMDK9XCC&marketplace=FLIPKART&q=tv&store=ckf%2Fczl&srno=s_1_2&otracker=search&fm=organic&iid=en__CNWI9-i8wnLUo1at75CVPiBi_IPvjv-cqspz8IBMC2IexMgmKdYs8NzdQNyVtEZOaeOBQeoYuDonroDfLafDg%3D%3D&ppt=None&ppn=None&ssid=1jelr7l5ts0000001691417237203&qH=c9a1fdac6e082dd8\n",
      "https://www.flipkart.com/compaq-108-cm-43-inch-full-hd-led-smart-android-tv-hdr10-chromecast-ready-dolby-audio-surround-sound/p/itm49e8d5f020b11?pid=TVSGHQYFPMG8TYNM&lid=LSTTVSGHQYFPMG8TYNMDK9XCC&marketplace=FLIPKART&q=tv&store=ckf%2Fczl&srno=s_1_2&otracker=search&fm=organic&iid=en__CNWI9-i8wnLUo1at75CVPiBi_IPvjv-cqspz8IBMC2IexMgmKdYs8NzdQNyVtEZOaeOBQeoYuDonroDfLafDg%3D%3D&ppt=None&ppn=None&ssid=1jelr7l5ts0000001691417237203&qH=c9a1fdac6e082dd8\n",
      "https://www.flipkart.com/compaq-108-cm-43-inch-full-hd-led-smart-android-tv-hdr10-chromecast-ready-dolby-audio-surround-sound/p/itm49e8d5f020b11?pid=TVSGHQYFPMG8TYNM&lid=LSTTVSGHQYFPMG8TYNMDK9XCC&marketplace=FLIPKART&q=tv&store=ckf%2Fczl&srno=s_1_2&otracker=search&fm=organic&iid=en__CNWI9-i8wnLUo1at75CVPiBi_IPvjv-cqspz8IBMC2IexMgmKdYs8NzdQNyVtEZOaeOBQeoYuDonroDfLafDg%3D%3D&ppt=None&ppn=None&ssid=1jelr7l5ts0000001691417237203&qH=c9a1fdac6e082dd8\n",
      "https://www.flipkart.com/compaq-108-cm-43-inch-full-hd-led-smart-android-tv-hdr10-chromecast-ready-dolby-audio-surround-sound/p/itm49e8d5f020b11?pid=TVSGHQYFPMG8TYNM&lid=LSTTVSGHQYFPMG8TYNMDK9XCC&marketplace=FLIPKART&q=tv&store=ckf%2Fczl&srno=s_1_2&otracker=search&fm=organic&iid=en__CNWI9-i8wnLUo1at75CVPiBi_IPvjv-cqspz8IBMC2IexMgmKdYs8NzdQNyVtEZOaeOBQeoYuDonroDfLafDg%3D%3D&ppt=None&ppn=None&ssid=1jelr7l5ts0000001691417237203&qH=c9a1fdac6e082dd8\n"
     ]
    }
   ],
   "source": [
    "for i in bigbox:\n",
    "    print(\"https://www.flipkart.com\"+bigbox[0].div.div.div.a['href'])\n",
    "    "
   ]
  },
  {
   "cell_type": "code",
   "execution_count": 40,
   "id": "5bae5fde-20d4-4a57-8e63-86811b32070c",
   "metadata": {},
   "outputs": [
    {
     "data": {
      "text/plain": [
       "'https://www.flipkart.com/compaq-108-cm-43-inch-full-hd-led-smart-android-tv-hdr10-chromecast-ready-dolby-audio-surround-sound/p/itm49e8d5f020b11?pid=TVSGHQYFPMG8TYNM&lid=LSTTVSGHQYFPMG8TYNMDK9XCC&marketplace=FLIPKART&q=tv&store=ckf%2Fczl&srno=s_1_2&otracker=search&fm=organic&iid=en__CNWI9-i8wnLUo1at75CVPiBi_IPvjv-cqspz8IBMC2IexMgmKdYs8NzdQNyVtEZOaeOBQeoYuDonroDfLafDg%3D%3D&ppt=None&ppn=None&ssid=1jelr7l5ts0000001691417237203&qH=c9a1fdac6e082dd8'"
      ]
     },
     "execution_count": 40,
     "metadata": {},
     "output_type": "execute_result"
    }
   ],
   "source": [
    "product_link"
   ]
  },
  {
   "cell_type": "code",
   "execution_count": 42,
   "id": "8ce19f8b-0ec1-478c-a9e3-6931b7abee21",
   "metadata": {},
   "outputs": [],
   "source": [
    "product_req = requests.get(product_link)"
   ]
  },
  {
   "cell_type": "code",
   "execution_count": 46,
   "id": "29147baa-119b-44ba-b023-32423e170842",
   "metadata": {},
   "outputs": [],
   "source": [
    "product_html = bs(product_req.text, 'html.parser')"
   ]
  },
  {
   "cell_type": "code",
   "execution_count": 50,
   "id": "1f23dc0e-d611-4587-b257-671db8dfaef1",
   "metadata": {},
   "outputs": [],
   "source": [
    "commentbox = product_html.find_all('div',{'class':'_16PBlm'})"
   ]
  },
  {
   "cell_type": "code",
   "execution_count": 51,
   "id": "815803c3-d7cb-42a4-9d3c-199e184861fb",
   "metadata": {},
   "outputs": [
    {
     "data": {
      "text/plain": [
       "11"
      ]
     },
     "execution_count": 51,
     "metadata": {},
     "output_type": "execute_result"
    }
   ],
   "source": [
    "len(commentbox)"
   ]
  },
  {
   "cell_type": "code",
   "execution_count": 54,
   "id": "5dca4c97-d480-41bb-8709-f2a4a74ff8f4",
   "metadata": {},
   "outputs": [
    {
     "data": {
      "text/plain": [
       "'jince joseph'"
      ]
     },
     "execution_count": 54,
     "metadata": {},
     "output_type": "execute_result"
    }
   ],
   "source": [
    "commentbox[0].div.div.find_all('p', {'class':'_2sc7ZR _2V5EHH'})[0].text"
   ]
  },
  {
   "cell_type": "code",
   "execution_count": 55,
   "id": "e5415e93-403e-4021-b24e-6f6499aa79cc",
   "metadata": {},
   "outputs": [
    {
     "name": "stdout",
     "output_type": "stream",
     "text": [
      "jince joseph\n",
      "Kailas S\n",
      "Flipkart Customer\n",
      "Flipkart Customer\n",
      "ANANDAKUMAR M\n",
      "Digvijay Singh\n",
      "Ganesan Ramachandran\n",
      "Badal Arora\n",
      "Saikumar  K\n",
      "Flipkart Customer\n"
     ]
    },
    {
     "ename": "AttributeError",
     "evalue": "'NoneType' object has no attribute 'div'",
     "output_type": "error",
     "traceback": [
      "\u001b[0;31m---------------------------------------------------------------------------\u001b[0m",
      "\u001b[0;31mAttributeError\u001b[0m                            Traceback (most recent call last)",
      "Cell \u001b[0;32mIn[55], line 2\u001b[0m\n\u001b[1;32m      1\u001b[0m \u001b[38;5;28;01mfor\u001b[39;00m i \u001b[38;5;129;01min\u001b[39;00m commentbox:\n\u001b[0;32m----> 2\u001b[0m     \u001b[38;5;28mprint\u001b[39m(\u001b[43mi\u001b[49m\u001b[38;5;241;43m.\u001b[39;49m\u001b[43mdiv\u001b[49m\u001b[38;5;241;43m.\u001b[39;49m\u001b[43mdiv\u001b[49m\u001b[38;5;241m.\u001b[39mfind_all(\u001b[38;5;124m'\u001b[39m\u001b[38;5;124mp\u001b[39m\u001b[38;5;124m'\u001b[39m, {\u001b[38;5;124m'\u001b[39m\u001b[38;5;124mclass\u001b[39m\u001b[38;5;124m'\u001b[39m:\u001b[38;5;124m'\u001b[39m\u001b[38;5;124m_2sc7ZR _2V5EHH\u001b[39m\u001b[38;5;124m'\u001b[39m})[\u001b[38;5;241m0\u001b[39m]\u001b[38;5;241m.\u001b[39mtext)\n",
      "\u001b[0;31mAttributeError\u001b[0m: 'NoneType' object has no attribute 'div'"
     ]
    }
   ],
   "source": [
    "for i in commentbox:\n",
    "    print(i.div.div.find_all('p', {'class':'_2sc7ZR _2V5EHH'})[0].text)"
   ]
  },
  {
   "cell_type": "code",
   "execution_count": 58,
   "id": "0c017f10-05e7-4c86-87d5-5f3ec75bf05f",
   "metadata": {},
   "outputs": [
    {
     "name": "stdout",
     "output_type": "stream",
     "text": [
      "1\n",
      "2\n",
      "5\n",
      "5\n",
      "1\n",
      "5\n",
      "1\n",
      "1\n",
      "5\n",
      "5\n"
     ]
    },
    {
     "ename": "AttributeError",
     "evalue": "'NoneType' object has no attribute 'div'",
     "output_type": "error",
     "traceback": [
      "\u001b[0;31m---------------------------------------------------------------------------\u001b[0m",
      "\u001b[0;31mAttributeError\u001b[0m                            Traceback (most recent call last)",
      "Cell \u001b[0;32mIn[58], line 2\u001b[0m\n\u001b[1;32m      1\u001b[0m \u001b[38;5;28;01mfor\u001b[39;00m i \u001b[38;5;129;01min\u001b[39;00m commentbox:\n\u001b[0;32m----> 2\u001b[0m     \u001b[38;5;28mprint\u001b[39m(\u001b[43mi\u001b[49m\u001b[38;5;241;43m.\u001b[39;49m\u001b[43mdiv\u001b[49m\u001b[38;5;241;43m.\u001b[39;49m\u001b[43mdiv\u001b[49m\u001b[38;5;241m.\u001b[39mdiv\u001b[38;5;241m.\u001b[39mdiv\u001b[38;5;241m.\u001b[39mtext)\n",
      "\u001b[0;31mAttributeError\u001b[0m: 'NoneType' object has no attribute 'div'"
     ]
    }
   ],
   "source": [
    "for i in commentbox:\n",
    "    print(i.div.div.div.div.text)"
   ]
  },
  {
   "cell_type": "code",
   "execution_count": 60,
   "id": "c0d1cc29-79b4-46cc-831a-d50c66e14fc3",
   "metadata": {},
   "outputs": [
    {
     "data": {
      "text/plain": [
       "'Useless product'"
      ]
     },
     "execution_count": 60,
     "metadata": {},
     "output_type": "execute_result"
    }
   ],
   "source": [
    "commentbox[0].div.div.div.p.text"
   ]
  },
  {
   "cell_type": "code",
   "execution_count": 61,
   "id": "1710f967-15ec-413f-a892-497d369c00bc",
   "metadata": {},
   "outputs": [
    {
     "name": "stdout",
     "output_type": "stream",
     "text": [
      "Useless product\n",
      "Not good\n",
      "Great product\n",
      "Don't waste your money\n",
      "Absolute rubbish!\n",
      "Terrific\n",
      "Utterly Disappointed\n",
      "Worst experience ever!\n",
      "Brilliant\n",
      "Terrific purchase\n"
     ]
    },
    {
     "ename": "AttributeError",
     "evalue": "'NoneType' object has no attribute 'div'",
     "output_type": "error",
     "traceback": [
      "\u001b[0;31m---------------------------------------------------------------------------\u001b[0m",
      "\u001b[0;31mAttributeError\u001b[0m                            Traceback (most recent call last)",
      "Cell \u001b[0;32mIn[61], line 2\u001b[0m\n\u001b[1;32m      1\u001b[0m \u001b[38;5;28;01mfor\u001b[39;00m i \u001b[38;5;129;01min\u001b[39;00m commentbox:\n\u001b[0;32m----> 2\u001b[0m     \u001b[38;5;28mprint\u001b[39m(\u001b[43mi\u001b[49m\u001b[38;5;241;43m.\u001b[39;49m\u001b[43mdiv\u001b[49m\u001b[38;5;241;43m.\u001b[39;49m\u001b[43mdiv\u001b[49m\u001b[38;5;241m.\u001b[39mdiv\u001b[38;5;241m.\u001b[39mp\u001b[38;5;241m.\u001b[39mtext)\n",
      "\u001b[0;31mAttributeError\u001b[0m: 'NoneType' object has no attribute 'div'"
     ]
    }
   ],
   "source": [
    "for i in commentbox:\n",
    "    print(i.div.div.div.p.text)"
   ]
  },
  {
   "cell_type": "code",
   "execution_count": 65,
   "id": "d0b21d3e-30bd-4a46-af8d-4c2c1f786045",
   "metadata": {},
   "outputs": [
    {
     "data": {
      "text/plain": [
       "'I have purchased this tv 2 months before, it became COMPLAINT 1 month before, i reported it but no Actions took place.....READ MORE'"
      ]
     },
     "execution_count": 65,
     "metadata": {},
     "output_type": "execute_result"
    }
   ],
   "source": [
    "commentbox[0].div.div.find_all('div' ,{'class':''})[0].text"
   ]
  },
  {
   "cell_type": "code",
   "execution_count": 68,
   "id": "0b3d2658-f429-4eaa-a3b4-593ca81f7f29",
   "metadata": {},
   "outputs": [
    {
     "name": "stdout",
     "output_type": "stream",
     "text": [
      "I have purchased this tv 2 months before, it became COMPLAINT 1 month before, i reported it but no Actions took place.....READ MORE\n",
      "Within three months tv got faulty . Company not responding properly . Every day they will tell us we will replace as soon as. I am waiting for replce from last 45 daysREAD MORE\n",
      "Honest reviews. Got this Tv at 13499 and the quality of picture and sound is fine. I wont say anything wrong because companies likes Lg and Samsung are looting on the name of brand. But actually this companies are providing value of money. Please go ahead a purchase this Tv you wont regret. ThanksREAD MORE\n",
      "Product is nice but service is poor.ofter 7 days of delivery I am still waiting for installationREAD MORE\n",
      "After 4months tv got faulty..lens gone..till now I am not receiving new tv ,READ MORE\n",
      "It's an Awesome Value for Money Package.READ MORE\n",
      "Really very worst brand Compaq tv i buy 1/10 month finished now not working tv panel condomed pls not buying this brand tvREAD MORE\n",
      "Pathetic after sales service... display got damaged in 4 months...and it's been 3 months that it is not been solved...just delaying and saying it to upgrade it with an exchange by giving extra penny... completely disappointedREAD MORE\n",
      "Good tv .I am satisfied.Screen bazelless  but video is not bazelless.READ MORE\n",
      "Excellent productREAD MORE\n"
     ]
    },
    {
     "ename": "AttributeError",
     "evalue": "'NoneType' object has no attribute 'div'",
     "output_type": "error",
     "traceback": [
      "\u001b[0;31m---------------------------------------------------------------------------\u001b[0m",
      "\u001b[0;31mAttributeError\u001b[0m                            Traceback (most recent call last)",
      "Cell \u001b[0;32mIn[68], line 2\u001b[0m\n\u001b[1;32m      1\u001b[0m \u001b[38;5;28;01mfor\u001b[39;00m i \u001b[38;5;129;01min\u001b[39;00m commentbox:\n\u001b[0;32m----> 2\u001b[0m     \u001b[38;5;28mprint\u001b[39m(\u001b[43mi\u001b[49m\u001b[38;5;241;43m.\u001b[39;49m\u001b[43mdiv\u001b[49m\u001b[38;5;241;43m.\u001b[39;49m\u001b[43mdiv\u001b[49m\u001b[38;5;241m.\u001b[39mfind_all(\u001b[38;5;124m'\u001b[39m\u001b[38;5;124mdiv\u001b[39m\u001b[38;5;124m'\u001b[39m ,{\u001b[38;5;124m'\u001b[39m\u001b[38;5;124mclass\u001b[39m\u001b[38;5;124m'\u001b[39m:\u001b[38;5;124m'\u001b[39m\u001b[38;5;124m'\u001b[39m})[\u001b[38;5;241m0\u001b[39m]\u001b[38;5;241m.\u001b[39mtext)\n",
      "\u001b[0;31mAttributeError\u001b[0m: 'NoneType' object has no attribute 'div'"
     ]
    }
   ],
   "source": [
    "for i in commentbox:\n",
    "    print(i.div.div.find_all('div' ,{'class':''})[0].text)"
   ]
  },
  {
   "cell_type": "code",
   "execution_count": null,
   "id": "e42be798-ce69-467c-b32c-8ccbbd2f9a71",
   "metadata": {},
   "outputs": [],
   "source": []
  }
 ],
 "metadata": {
  "kernelspec": {
   "display_name": "Python 3 (ipykernel)",
   "language": "python",
   "name": "python3"
  },
  "language_info": {
   "codemirror_mode": {
    "name": "ipython",
    "version": 3
   },
   "file_extension": ".py",
   "mimetype": "text/x-python",
   "name": "python",
   "nbconvert_exporter": "python",
   "pygments_lexer": "ipython3",
   "version": "3.10.8"
  }
 },
 "nbformat": 4,
 "nbformat_minor": 5
}
